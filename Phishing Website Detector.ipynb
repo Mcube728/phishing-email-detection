{
 "cells": [
  {
   "cell_type": "markdown",
   "id": "619547b6-8e64-408e-a3de-2734d62673ea",
   "metadata": {},
   "source": [
    "# Phishing Attack Detection"
   ]
  },
  {
   "cell_type": "markdown",
   "id": "78af1ec3-d2a4-4312-9a87-ac1a163981fe",
   "metadata": {},
   "source": [
    "## 1. Dependencies"
   ]
  },
  {
   "cell_type": "code",
   "execution_count": 1,
   "id": "8177f35d-528e-41ab-ac15-37eb1b331d10",
   "metadata": {},
   "outputs": [],
   "source": [
    "import numpy as np\n",
    "import pandas as pd\n",
    "import matplotlib.pyplot as plt\n",
    "import seaborn as sns\n",
    "import re\n",
    "from bs4 import BeautifulSoup\n",
    "from urllib.parse import urlparse\n",
    "import time"
   ]
  },
  {
   "cell_type": "code",
   "execution_count": 2,
   "id": "d2228cc0-1db2-4982-9a72-628553029461",
   "metadata": {},
   "outputs": [
    {
     "name": "stderr",
     "output_type": "stream",
     "text": [
      "[nltk_data] Downloading package punkt to /home/mikhail/nltk_data...\n",
      "[nltk_data]   Unzipping tokenizers/punkt.zip.\n"
     ]
    },
    {
     "data": {
      "text/plain": [
       "True"
      ]
     },
     "execution_count": 2,
     "metadata": {},
     "output_type": "execute_result"
    }
   ],
   "source": [
    "from sklearn.metrics import classification_report, confusion_matrix, roc_auc_score\n",
    "from sklearn.model_selection import train_test_split\n",
    "from sklearn.feature_extraction.text import TfidfVectorizer\n",
    "from imblearn.over_sampling import SMOTE\n",
    "from sklearn.linear_model import LogisticRegression\n",
    "from nltk.tokenize import word_tokenize\n",
    "import nltk\n",
    "from xgboost import XGBClassifier\n",
    "from sklearn.preprocessing import StandardScaler\n",
    "nltk.download('punkt')"
   ]
  },
  {
   "cell_type": "code",
   "execution_count": 3,
   "id": "06ba4052-1f00-4aa5-a61e-0134b2af47a4",
   "metadata": {},
   "outputs": [],
   "source": [
    "import warnings\n",
    "warnings.filterwarnings('ignore')"
   ]
  },
  {
   "cell_type": "markdown",
   "id": "89efb210-36ba-44ad-853c-8d044c1f9739",
   "metadata": {},
   "source": [
    "## 2. Preprocessing Dataset and Exploratory Data Analysis"
   ]
  },
  {
   "cell_type": "code",
   "execution_count": 4,
   "id": "0bd27723-5b1f-46e8-ba6a-25b5e7c6934c",
   "metadata": {},
   "outputs": [
    {
     "name": "stdout",
     "output_type": "stream",
     "text": [
      "<class 'pandas.core.frame.DataFrame'>\n",
      "RangeIndex: 39154 entries, 0 to 39153\n",
      "Data columns (total 7 columns):\n",
      " #   Column    Non-Null Count  Dtype \n",
      "---  ------    --------------  ----- \n",
      " 0   sender    39154 non-null  object\n",
      " 1   receiver  38692 non-null  object\n",
      " 2   date      39154 non-null  object\n",
      " 3   subject   39126 non-null  object\n",
      " 4   body      39154 non-null  object\n",
      " 5   label     39154 non-null  int64 \n",
      " 6   urls      39154 non-null  int64 \n",
      "dtypes: int64(2), object(5)\n",
      "memory usage: 2.1+ MB\n"
     ]
    },
    {
     "data": {
      "text/plain": [
       "sender        0\n",
       "receiver    462\n",
       "date          0\n",
       "subject      28\n",
       "body          0\n",
       "label         0\n",
       "urls          0\n",
       "dtype: int64"
      ]
     },
     "execution_count": 4,
     "metadata": {},
     "output_type": "execute_result"
    }
   ],
   "source": [
    "df = pd.read_csv('datasets/archive/CEAS_08.csv')\n",
    "df.info()\n",
    "df.isnull().sum()"
   ]
  },
  {
   "cell_type": "code",
   "execution_count": 5,
   "id": "ebf7594a-7f4a-49aa-a682-98d220016834",
   "metadata": {},
   "outputs": [
    {
     "data": {
      "text/html": [
       "<div>\n",
       "<style scoped>\n",
       "    .dataframe tbody tr th:only-of-type {\n",
       "        vertical-align: middle;\n",
       "    }\n",
       "\n",
       "    .dataframe tbody tr th {\n",
       "        vertical-align: top;\n",
       "    }\n",
       "\n",
       "    .dataframe thead th {\n",
       "        text-align: right;\n",
       "    }\n",
       "</style>\n",
       "<table border=\"1\" class=\"dataframe\">\n",
       "  <thead>\n",
       "    <tr style=\"text-align: right;\">\n",
       "      <th></th>\n",
       "      <th>sender</th>\n",
       "      <th>receiver</th>\n",
       "      <th>date</th>\n",
       "      <th>subject</th>\n",
       "      <th>body</th>\n",
       "      <th>label</th>\n",
       "      <th>urls</th>\n",
       "    </tr>\n",
       "  </thead>\n",
       "  <tbody>\n",
       "    <tr>\n",
       "      <th>0</th>\n",
       "      <td>Young Esposito &lt;Young@iworld.de&gt;</td>\n",
       "      <td>user4@gvc.ceas-challenge.cc</td>\n",
       "      <td>Tue, 05 Aug 2008 16:31:02 -0700</td>\n",
       "      <td>Never agree to be a loser</td>\n",
       "      <td>Buck up, your troubles caused by small dimensi...</td>\n",
       "      <td>1</td>\n",
       "      <td>1</td>\n",
       "    </tr>\n",
       "    <tr>\n",
       "      <th>1</th>\n",
       "      <td>Mok &lt;ipline's1983@icable.ph&gt;</td>\n",
       "      <td>user2.2@gvc.ceas-challenge.cc</td>\n",
       "      <td>Tue, 05 Aug 2008 18:31:03 -0500</td>\n",
       "      <td>Befriend Jenna Jameson</td>\n",
       "      <td>\\nUpgrade your sex and pleasures with these te...</td>\n",
       "      <td>1</td>\n",
       "      <td>1</td>\n",
       "    </tr>\n",
       "    <tr>\n",
       "      <th>2</th>\n",
       "      <td>Daily Top 10 &lt;Karmandeep-opengevl@universalnet...</td>\n",
       "      <td>user2.9@gvc.ceas-challenge.cc</td>\n",
       "      <td>Tue, 05 Aug 2008 20:28:00 -1200</td>\n",
       "      <td>CNN.com Daily Top 10</td>\n",
       "      <td>&gt;+=+=+=+=+=+=+=+=+=+=+=+=+=+=+=+=+=+=+=+=+=+=+...</td>\n",
       "      <td>1</td>\n",
       "      <td>1</td>\n",
       "    </tr>\n",
       "    <tr>\n",
       "      <th>3</th>\n",
       "      <td>Michael Parker &lt;ivqrnai@pobox.com&gt;</td>\n",
       "      <td>SpamAssassin Dev &lt;xrh@spamassassin.apache.org&gt;</td>\n",
       "      <td>Tue, 05 Aug 2008 17:31:20 -0600</td>\n",
       "      <td>Re: svn commit: r619753 - in /spamassassin/tru...</td>\n",
       "      <td>Would anyone object to removing .so from this ...</td>\n",
       "      <td>0</td>\n",
       "      <td>1</td>\n",
       "    </tr>\n",
       "    <tr>\n",
       "      <th>4</th>\n",
       "      <td>Gretchen Suggs &lt;externalsep1@loanofficertool.com&gt;</td>\n",
       "      <td>user2.2@gvc.ceas-challenge.cc</td>\n",
       "      <td>Tue, 05 Aug 2008 19:31:21 -0400</td>\n",
       "      <td>SpecialPricesPharmMoreinfo</td>\n",
       "      <td>\\nWelcomeFastShippingCustomerSupport\\nhttp://7...</td>\n",
       "      <td>1</td>\n",
       "      <td>1</td>\n",
       "    </tr>\n",
       "  </tbody>\n",
       "</table>\n",
       "</div>"
      ],
      "text/plain": [
       "                                              sender  \\\n",
       "0                   Young Esposito <Young@iworld.de>   \n",
       "1                       Mok <ipline's1983@icable.ph>   \n",
       "2  Daily Top 10 <Karmandeep-opengevl@universalnet...   \n",
       "3                 Michael Parker <ivqrnai@pobox.com>   \n",
       "4  Gretchen Suggs <externalsep1@loanofficertool.com>   \n",
       "\n",
       "                                         receiver  \\\n",
       "0                     user4@gvc.ceas-challenge.cc   \n",
       "1                   user2.2@gvc.ceas-challenge.cc   \n",
       "2                   user2.9@gvc.ceas-challenge.cc   \n",
       "3  SpamAssassin Dev <xrh@spamassassin.apache.org>   \n",
       "4                   user2.2@gvc.ceas-challenge.cc   \n",
       "\n",
       "                              date  \\\n",
       "0  Tue, 05 Aug 2008 16:31:02 -0700   \n",
       "1  Tue, 05 Aug 2008 18:31:03 -0500   \n",
       "2  Tue, 05 Aug 2008 20:28:00 -1200   \n",
       "3  Tue, 05 Aug 2008 17:31:20 -0600   \n",
       "4  Tue, 05 Aug 2008 19:31:21 -0400   \n",
       "\n",
       "                                             subject  \\\n",
       "0                          Never agree to be a loser   \n",
       "1                             Befriend Jenna Jameson   \n",
       "2                               CNN.com Daily Top 10   \n",
       "3  Re: svn commit: r619753 - in /spamassassin/tru...   \n",
       "4                         SpecialPricesPharmMoreinfo   \n",
       "\n",
       "                                                body  label  urls  \n",
       "0  Buck up, your troubles caused by small dimensi...      1     1  \n",
       "1  \\nUpgrade your sex and pleasures with these te...      1     1  \n",
       "2  >+=+=+=+=+=+=+=+=+=+=+=+=+=+=+=+=+=+=+=+=+=+=+...      1     1  \n",
       "3  Would anyone object to removing .so from this ...      0     1  \n",
       "4  \\nWelcomeFastShippingCustomerSupport\\nhttp://7...      1     1  "
      ]
     },
     "execution_count": 5,
     "metadata": {},
     "output_type": "execute_result"
    }
   ],
   "source": [
    "df.head()"
   ]
  },
  {
   "cell_type": "code",
   "execution_count": 6,
   "id": "3b456732-43a9-489a-ba20-3331c1eb7f07",
   "metadata": {},
   "outputs": [
    {
     "data": {
      "image/png": "[encoded data removed]",
      "text/plain": [
       "<Figure size 640x480 with 1 Axes>"
      ]
     },
     "metadata": {},
     "output_type": "display_data"
    }
   ],
   "source": [
    "sns.countplot(x='urls', data=df)\n",
    "plt.title('Distribution of emails with URLS(1) vs no URLs(0)')\n",
    "plt.show()"
   ]
  },
  {
   "cell_type": "code",
   "execution_count": 7,
   "id": "260e5d20-5dd6-4ae2-8150-1e57bb259c97",
   "metadata": {},
   "outputs": [],
   "source": [
    "def cleanEmailContentWithLinks(email_body):\n",
    "    urls = re.findall(r'http[s]?://(?:[a-zA-Z]|[0-9]|[$-_@.&+]|[!*\\\\(\\\\),]|(?:%[0-9a-fA-F][0-9a-fA-F]))+', email_body)\n",
    "    for i, url in enumerate(urls):\n",
    "        email_body = email_body.replace(url, f'*URI_{i}')\n",
    "    email_body = re.sub(r'[^a-zA-Z0-9\\s*URL_\\d*]', '', email_body)\n",
    "    email_body = re.sub(r'\\s+', ' ', email_body).strip()\n",
    "    return email_body, urls"
   ]
  },
  {
   "cell_type": "code",
   "execution_count": 8,
   "id": "e682d4e9-0b95-4092-bf58-63165c7b7502",
   "metadata": {},
   "outputs": [
    {
     "name": "stdout",
     "output_type": "stream",
     "text": [
      "                                                    body  \\\n",
      "918    Selon Sébastien Aperghis-Tramoni :\\n\\n> Leon B...   \n",
      "919    Enlarged man pole to reach womens G-spots htt...   \n",
      "920    Basil Chupin wrote:\\n>\\n> The need to create a...   \n",
      "921    Hi everyone\\n\\nI sent this through the other d...   \n",
      "922    Hello, Leon.\\n\\n2007/10/2, Leon Brocard :\\n> P...   \n",
      "...                                                  ...   \n",
      "39149  \\n\\nCNN Alerts: My Custom Alert\\n\\n\\n\\n\\n\\n\\n ...   \n",
      "39150  \\n\\nCNN Alerts: My Custom Alert\\n\\n\\n\\n\\n\\n\\n ...   \n",
      "39151  Hello there ! \\nGreat work on the slide show v...   \n",
      "39152  \\nMail from sender , coming from intuit.com\\ns...   \n",
      "39153  Dear fellow Pythonistas!\\n\\nGuido has accepted...   \n",
      "\n",
      "                                            cleaned_body  \\\n",
      "918    Selon Sbastien AperghisTramoni Leon Brocard wr...   \n",
      "919      Enlarged man pole to reach womens Gspots *URI_0   \n",
      "920    Basil Chupin wrote The need to create a normal...   \n",
      "921    Hi everyone I sent this through the other day ...   \n",
      "922    Hello Leon 2007102 Leon Brocard Please compile...   \n",
      "...                                                  ...   \n",
      "39149  CNN Alerts My Custom Alert Alert Name My Custo...   \n",
      "39150  CNN Alerts My Custom Alert Alert Name My Custo...   \n",
      "39151  Hello there Great work on the slide show viewe...   \n",
      "39152  Mail from sender coming from intuitcom servers...   \n",
      "39153  Dear fellow Pythonistas Guido has accepted my ...   \n",
      "\n",
      "                                          extracted_urls  label  \n",
      "918    [http://perl5005.googlecode.com/files/perl5.00...      0  \n",
      "919                          [http://www.brightdone.com]      1  \n",
      "920                                                   []      0  \n",
      "921                                                   []      0  \n",
      "922    [http://perl5005.googlecode.com/files/perl5.00...      0  \n",
      "...                                                  ...    ...  \n",
      "39149                                                 []      1  \n",
      "39150                                                 []      1  \n",
      "39151                                                 []      0  \n",
      "39152                                                 []      0  \n",
      "39153  [http://python.org/dev/peps/pep-0370/, http://...      0  \n",
      "\n",
      "[38236 rows x 4 columns]\n"
     ]
    },
    {
     "data": {
      "text/html": [
       "<div>\n",
       "<style scoped>\n",
       "    .dataframe tbody tr th:only-of-type {\n",
       "        vertical-align: middle;\n",
       "    }\n",
       "\n",
       "    .dataframe tbody tr th {\n",
       "        vertical-align: top;\n",
       "    }\n",
       "\n",
       "    .dataframe thead th {\n",
       "        text-align: right;\n",
       "    }\n",
       "</style>\n",
       "<table border=\"1\" class=\"dataframe\">\n",
       "  <thead>\n",
       "    <tr style=\"text-align: right;\">\n",
       "      <th></th>\n",
       "      <th>sender</th>\n",
       "      <th>receiver</th>\n",
       "      <th>date</th>\n",
       "      <th>subject</th>\n",
       "      <th>body</th>\n",
       "      <th>label</th>\n",
       "      <th>urls</th>\n",
       "      <th>cleaned_body</th>\n",
       "      <th>extracted_urls</th>\n",
       "    </tr>\n",
       "  </thead>\n",
       "  <tbody>\n",
       "    <tr>\n",
       "      <th>0</th>\n",
       "      <td>Young Esposito &lt;Young@iworld.de&gt;</td>\n",
       "      <td>user4@gvc.ceas-challenge.cc</td>\n",
       "      <td>Tue, 05 Aug 2008 16:31:02 -0700</td>\n",
       "      <td>Never agree to be a loser</td>\n",
       "      <td>Buck up, your troubles caused by small dimensi...</td>\n",
       "      <td>1</td>\n",
       "      <td>1</td>\n",
       "      <td>Buck up your troubles caused by small dimensio...</td>\n",
       "      <td>[http://whitedone.com/]</td>\n",
       "    </tr>\n",
       "    <tr>\n",
       "      <th>1</th>\n",
       "      <td>Mok &lt;ipline's1983@icable.ph&gt;</td>\n",
       "      <td>user2.2@gvc.ceas-challenge.cc</td>\n",
       "      <td>Tue, 05 Aug 2008 18:31:03 -0500</td>\n",
       "      <td>Befriend Jenna Jameson</td>\n",
       "      <td>\\nUpgrade your sex and pleasures with these te...</td>\n",
       "      <td>1</td>\n",
       "      <td>1</td>\n",
       "      <td>Upgrade your sex and pleasures with these tech...</td>\n",
       "      <td>[http://www.brightmade.com]</td>\n",
       "    </tr>\n",
       "    <tr>\n",
       "      <th>2</th>\n",
       "      <td>Daily Top 10 &lt;Karmandeep-opengevl@universalnet...</td>\n",
       "      <td>user2.9@gvc.ceas-challenge.cc</td>\n",
       "      <td>Tue, 05 Aug 2008 20:28:00 -1200</td>\n",
       "      <td>CNN.com Daily Top 10</td>\n",
       "      <td>&gt;+=+=+=+=+=+=+=+=+=+=+=+=+=+=+=+=+=+=+=+=+=+=+...</td>\n",
       "      <td>1</td>\n",
       "      <td>1</td>\n",
       "      <td>THE DAILY TOP 10 from CNNcom Top videos and st...</td>\n",
       "      <td>[http://www.cnn.com/video/partners/email/index...</td>\n",
       "    </tr>\n",
       "    <tr>\n",
       "      <th>3</th>\n",
       "      <td>Michael Parker &lt;ivqrnai@pobox.com&gt;</td>\n",
       "      <td>SpamAssassin Dev &lt;xrh@spamassassin.apache.org&gt;</td>\n",
       "      <td>Tue, 05 Aug 2008 17:31:20 -0600</td>\n",
       "      <td>Re: svn commit: r619753 - in /spamassassin/tru...</td>\n",
       "      <td>Would anyone object to removing .so from this ...</td>\n",
       "      <td>0</td>\n",
       "      <td>1</td>\n",
       "      <td>Would anyone object to removing so from this l...</td>\n",
       "      <td>[http://en.wikipedia.org/wiki/.so_%28domain_na...</td>\n",
       "    </tr>\n",
       "    <tr>\n",
       "      <th>4</th>\n",
       "      <td>Gretchen Suggs &lt;externalsep1@loanofficertool.com&gt;</td>\n",
       "      <td>user2.2@gvc.ceas-challenge.cc</td>\n",
       "      <td>Tue, 05 Aug 2008 19:31:21 -0400</td>\n",
       "      <td>SpecialPricesPharmMoreinfo</td>\n",
       "      <td>\\nWelcomeFastShippingCustomerSupport\\nhttp://7...</td>\n",
       "      <td>1</td>\n",
       "      <td>1</td>\n",
       "      <td>WelcomeFastShippingCustomerSupport *URI_0</td>\n",
       "      <td>[http://7iwfna.blu.livefilestore.com/y1pXdX3kw...</td>\n",
       "    </tr>\n",
       "  </tbody>\n",
       "</table>\n",
       "</div>"
      ],
      "text/plain": [
       "                                              sender  \\\n",
       "0                   Young Esposito <Young@iworld.de>   \n",
       "1                       Mok <ipline's1983@icable.ph>   \n",
       "2  Daily Top 10 <Karmandeep-opengevl@universalnet...   \n",
       "3                 Michael Parker <ivqrnai@pobox.com>   \n",
       "4  Gretchen Suggs <externalsep1@loanofficertool.com>   \n",
       "\n",
       "                                         receiver  \\\n",
       "0                     user4@gvc.ceas-challenge.cc   \n",
       "1                   user2.2@gvc.ceas-challenge.cc   \n",
       "2                   user2.9@gvc.ceas-challenge.cc   \n",
       "3  SpamAssassin Dev <xrh@spamassassin.apache.org>   \n",
       "4                   user2.2@gvc.ceas-challenge.cc   \n",
       "\n",
       "                              date  \\\n",
       "0  Tue, 05 Aug 2008 16:31:02 -0700   \n",
       "1  Tue, 05 Aug 2008 18:31:03 -0500   \n",
       "2  Tue, 05 Aug 2008 20:28:00 -1200   \n",
       "3  Tue, 05 Aug 2008 17:31:20 -0600   \n",
       "4  Tue, 05 Aug 2008 19:31:21 -0400   \n",
       "\n",
       "                                             subject  \\\n",
       "0                          Never agree to be a loser   \n",
       "1                             Befriend Jenna Jameson   \n",
       "2                               CNN.com Daily Top 10   \n",
       "3  Re: svn commit: r619753 - in /spamassassin/tru...   \n",
       "4                         SpecialPricesPharmMoreinfo   \n",
       "\n",
       "                                                body  label  urls  \\\n",
       "0  Buck up, your troubles caused by small dimensi...      1     1   \n",
       "1  \\nUpgrade your sex and pleasures with these te...      1     1   \n",
       "2  >+=+=+=+=+=+=+=+=+=+=+=+=+=+=+=+=+=+=+=+=+=+=+...      1     1   \n",
       "3  Would anyone object to removing .so from this ...      0     1   \n",
       "4  \\nWelcomeFastShippingCustomerSupport\\nhttp://7...      1     1   \n",
       "\n",
       "                                        cleaned_body  \\\n",
       "0  Buck up your troubles caused by small dimensio...   \n",
       "1  Upgrade your sex and pleasures with these tech...   \n",
       "2  THE DAILY TOP 10 from CNNcom Top videos and st...   \n",
       "3  Would anyone object to removing so from this l...   \n",
       "4          WelcomeFastShippingCustomerSupport *URI_0   \n",
       "\n",
       "                                      extracted_urls  \n",
       "0                            [http://whitedone.com/]  \n",
       "1                        [http://www.brightmade.com]  \n",
       "2  [http://www.cnn.com/video/partners/email/index...  \n",
       "3  [http://en.wikipedia.org/wiki/.so_%28domain_na...  \n",
       "4  [http://7iwfna.blu.livefilestore.com/y1pXdX3kw...  "
      ]
     },
     "execution_count": 8,
     "metadata": {},
     "output_type": "execute_result"
    }
   ],
   "source": [
    "#df['cleaned_body'], df['extracted_urls'] = zip(*df['body'].apply(cleanEmailContentWithLinks))\n",
    "df['cleaned_body'], df['extracted_urls'] = zip(*df['body'].apply(cleanEmailContentWithLinks))\n",
    "print(df[['body', 'cleaned_body', 'extracted_urls', 'label']][918:])\n",
    "df['extracted_urls'][1972:]\n",
    "df.head()"
   ]
  },
  {
   "cell_type": "markdown",
   "id": "98e63b8f-5eea-44eb-9f36-5d55da183832",
   "metadata": {},
   "source": [
    "### 2.1 Tokenization and Vectorization: TF-IDF vectorization for cleaned email bodies"
   ]
  },
  {
   "cell_type": "code",
   "execution_count": 9,
   "id": "be9077e3-b6bf-4f1d-a7d7-dfe88bc9941e",
   "metadata": {},
   "outputs": [],
   "source": [
    "vectorizer = TfidfVectorizer(stop_words='english', max_features=5000)\n",
    "X_text = vectorizer.fit_transform(df['cleaned_body']).toarray()"
   ]
  },
  {
   "cell_type": "markdown",
   "id": "5a202c69-711c-44b7-a37b-4918eba84abc",
   "metadata": {},
   "source": [
    "### 2.2 Feature Engineering"
   ]
  },
  {
   "cell_type": "markdown",
   "id": "8980e340-4c1e-4b41-a753-356c67407f00",
   "metadata": {},
   "source": [
    "#### Feature 1: URLs -> Number of URLs present in the mail"
   ]
  },
  {
   "cell_type": "code",
   "execution_count": 10,
   "id": "0163324b-59e9-489d-8f33-18f6c1a312e0",
   "metadata": {},
   "outputs": [],
   "source": [
    "df['num_urls'] = df['extracted_urls'].apply(len)"
   ]
  },
  {
   "cell_type": "markdown",
   "id": "18bdc593-17ea-442e-96b7-44c5cdfd73cc",
   "metadata": {},
   "source": [
    "#### Feature 2: Email Metadata -> Extract domain from senders email address"
   ]
  },
  {
   "cell_type": "code",
   "execution_count": 11,
   "id": "d1ab9417-fadc-4d8a-86de-5e71449085c3",
   "metadata": {},
   "outputs": [],
   "source": [
    "df['sender_domain'] = df['sender'].apply(lambda x: x.split('@')[-1] if '@' in x else 'unknown')"
   ]
  },
  {
   "cell_type": "markdown",
   "id": "f5c4e03f-c937-4f92-90aa-108b5f44b73b",
   "metadata": {},
   "source": [
    "#### Feature 3: Length Features"
   ]
  },
  {
   "cell_type": "code",
   "execution_count": 12,
   "id": "2c0e2776-709e-45a8-bdec-956e19a5b2ab",
   "metadata": {},
   "outputs": [],
   "source": [
    "df['body_length'] = df['cleaned_body'].apply(len)"
   ]
  },
  {
   "cell_type": "markdown",
   "id": "214512b1-da19-41a2-bf75-5c9c84d77faf",
   "metadata": {},
   "source": [
    "### 2.3 Convert Categorical email sender domain into numerical representation"
   ]
  },
  {
   "cell_type": "code",
   "execution_count": 13,
   "id": "fa3983e9-7571-49b9-b11f-c19c066b2dd2",
   "metadata": {},
   "outputs": [],
   "source": [
    "df['sender_domain'] = pd.factorize(df['sender_domain'])[0]"
   ]
  },
  {
   "cell_type": "code",
   "execution_count": 14,
   "id": "75529864-5541-4079-ba4e-7743ca57f359",
   "metadata": {},
   "outputs": [],
   "source": [
    "def getDomainfromURL(url):\n",
    "    try:\n",
    "        return urlparse(url).netloc\n",
    "    except: \n",
    "        return ''"
   ]
  },
  {
   "cell_type": "code",
   "execution_count": 15,
   "id": "bd2ab07d-fc59-451b-86a4-0ca9295981cd",
   "metadata": {},
   "outputs": [],
   "source": [
    "def countSpecialChars(url):\n",
    "    return len(re.findall(r'[@%&\\*\\$#\\?\\+\\!]', url))"
   ]
  },
  {
   "cell_type": "code",
   "execution_count": 16,
   "id": "7dd5162e-bf71-403d-b529-a0aeaba3f138",
   "metadata": {},
   "outputs": [],
   "source": [
    "def isURLShortened(url):\n",
    "    shortened_domains = ['bit.ly', 'tinyurl.com', 'goo.gl']\n",
    "    domain = getDomainfromURL(url)\n",
    "    return 1 if any(shortened_domain in domain for shortened_domain in shortened_domains) else 0"
   ]
  },
  {
   "cell_type": "code",
   "execution_count": 17,
   "id": "5f4424a5-ff6b-46d2-90e0-ffb30bc84aa1",
   "metadata": {},
   "outputs": [],
   "source": [
    "def extractURLFeatures(row):\n",
    "    urls = row['extracted_urls']\n",
    "    avg_url_length = sum(len(url) for url in urls) / len(urls) if urls else 0\n",
    "    num_special_chars = sum(countSpecialChars(url) for url in urls)\n",
    "    has_url_short = sum(isURLShortened(url) for url in urls)\n",
    "    num_query_params = sum(url.count('?') for url in urls)\n",
    "    has_https = sum(1 for url in urls if 'https://' in url)\n",
    "    suspicious_keywords = ['login', 'bank', 'security', 'account', 'verify']\n",
    "    num_suspicious_keywords = sum(any(keyword in url for keyword in suspicious_keywords) for url in urls)\n",
    "    return[avg_url_length, num_special_chars, has_url_short, num_query_params, has_https, num_suspicious_keywords]"
   ]
  },
  {
   "cell_type": "markdown",
   "id": "e9b81911-78bd-459c-9f23-6fa1d0563ed8",
   "metadata": {},
   "source": [
    "#### Apply URL feature Extraction to each email"
   ]
  },
  {
   "cell_type": "code",
   "execution_count": 18,
   "id": "25c75ede-fa64-4f15-92f2-d489e099f0ab",
   "metadata": {},
   "outputs": [],
   "source": [
    "url_features = df.apply(lambda row: extractURLFeatures(row), axis=1)"
   ]
  },
  {
   "cell_type": "markdown",
   "id": "636b308d-9807-4c43-87dd-2e1f848914b9",
   "metadata": {},
   "source": [
    "#### Convert extracted URL features to a Dataframe"
   ]
  },
  {
   "cell_type": "code",
   "execution_count": 19,
   "id": "753582a4-d709-420e-8231-e4eb6559ccca",
   "metadata": {},
   "outputs": [],
   "source": [
    "url_features_df = pd.DataFrame(url_features.tolist(), columns=[\n",
    "    'avg_url_length', 'num_special_chars', 'has_url_shortner', 'num_query_params', 'has_https', 'num_suspicious_keywords_in_urls'\n",
    "])"
   ]
  },
  {
   "cell_type": "markdown",
   "id": "c1025c71-922a-4253-91da-c93e48c203da",
   "metadata": {},
   "source": [
    "#### Combine the URL features with the existing features"
   ]
  },
  {
   "cell_type": "code",
   "execution_count": 20,
   "id": "812e39c2-7684-4b5a-81b7-4333454acd7a",
   "metadata": {},
   "outputs": [],
   "source": [
    "X = pd.concat([ pd.DataFrame(X_text), df[['num_urls', 'sender_domain', 'body_length']], url_features_df ], axis=1)"
   ]
  },
  {
   "cell_type": "markdown",
   "id": "2ad387cb-59e1-415c-8fcd-e4441a4769de",
   "metadata": {},
   "source": [
    "## 3. Train-Test Split"
   ]
  },
  {
   "cell_type": "code",
   "execution_count": 21,
   "id": "9fd7851d-368b-4894-97eb-80bec7c2e3f9",
   "metadata": {},
   "outputs": [],
   "source": [
    "X_train, X_test, y_train, y_test = train_test_split(X, df['label'], test_size=0.2, random_state=42, stratify=df['label'])"
   ]
  },
  {
   "cell_type": "markdown",
   "id": "ab8337ce-c1e1-47c3-845a-a7518588f6dd",
   "metadata": {},
   "source": [
    "### 3.1 Standardize numerical features"
   ]
  },
  {
   "cell_type": "code",
   "execution_count": 22,
   "id": "8e5061c8-8b3c-4436-983a-bed81165e23e",
   "metadata": {},
   "outputs": [],
   "source": [
    "scaler=StandardScaler()\n",
    "X_train[['avg_url_length', 'num_special_chars', 'body_length']] = scaler.fit_transform(X_train[['avg_url_length', 'num_special_chars', 'body_length']])\n",
    "X_test[['avg_url_length', 'num_special_chars', 'body_length']] = scaler.transform(X_test[['avg_url_length', 'num_special_chars', 'body_length']])"
   ]
  },
  {
   "cell_type": "markdown",
   "id": "b196378e-b1e1-43af-a9d6-977a23484789",
   "metadata": {},
   "source": [
    "### 3.2 Initialise the XGBoost Classifier"
   ]
  },
  {
   "cell_type": "code",
   "execution_count": 23,
   "id": "4f3906f9-538b-4e1e-bf6e-c86c6a86e9ca",
   "metadata": {},
   "outputs": [],
   "source": [
    "xgb_model = XGBClassifier(\n",
    "    scale_pos_weight=len(y_train[y_train == 0]) / len(y_train[y_train == 1]),\n",
    "    max_depth=6,\n",
    "    learning_rate=0.1,\n",
    "    n_estimators=100,\n",
    "    objective='binary:logistic',\n",
    "    eval_metric='auc',\n",
    "    use_label_encoder=False,\n",
    "    random_state=42)"
   ]
  },
  {
   "cell_type": "markdown",
   "id": "3c23f708-13bd-42fa-8995-0ec44fd25dca",
   "metadata": {},
   "source": [
    "## 4. Model Training"
   ]
  },
  {
   "cell_type": "code",
   "execution_count": 24,
   "id": "30c38538-55f8-4aaf-b96d-487c3b9caed8",
   "metadata": {},
   "outputs": [
    {
     "name": "stdout",
     "output_type": "stream",
     "text": [
      "operation took 49.14843487739563 seconds\n"
     ]
    }
   ],
   "source": [
    "t0 = time.time()\n",
    "xgb_model.fit(X_train, y_train)\n",
    "print(f'operation took {time.time()-t0} seconds')"
   ]
  },
  {
   "cell_type": "code",
   "execution_count": 25,
   "id": "cf69a0d8-fc9f-40fe-bde3-16f596b4fba2",
   "metadata": {},
   "outputs": [],
   "source": [
    "y_pred = xgb_model.predict(X_test)\n",
    "y_pred_proba = xgb_model.predict_proba(X_test)[:, 1]"
   ]
  },
  {
   "cell_type": "markdown",
   "id": "7b5ddcb1-2985-492c-b48a-b0db3948caf7",
   "metadata": {},
   "source": [
    "## 5. Model Metrics"
   ]
  },
  {
   "cell_type": "code",
   "execution_count": 26,
   "id": "67bcf02c-db2a-4b95-aeaa-98c7d1b84a46",
   "metadata": {},
   "outputs": [
    {
     "name": "stdout",
     "output_type": "stream",
     "text": [
      "Confusion Matrix:\n",
      "[[3409   53]\n",
      " [  35 4334]]\n",
      "\n",
      "Classification Report:\n",
      "              precision    recall  f1-score   support\n",
      "\n",
      "           0       0.99      0.98      0.99      3462\n",
      "           1       0.99      0.99      0.99      4369\n",
      "\n",
      "    accuracy                           0.99      7831\n",
      "   macro avg       0.99      0.99      0.99      7831\n",
      "weighted avg       0.99      0.99      0.99      7831\n",
      "\n",
      "\n",
      "ROC-AUC Score: 0.9990573851616458\n"
     ]
    }
   ],
   "source": [
    "print(\"Confusion Matrix:\")\n",
    "print(confusion_matrix(y_test, y_pred))\n",
    "print(\"\\nClassification Report:\")\n",
    "print(classification_report(y_test, y_pred))\n",
    "print(\"\\nROC-AUC Score:\", roc_auc_score(y_test, y_pred_proba))"
   ]
  },
  {
   "cell_type": "markdown",
   "id": "32fe07cf-a6f4-4bac-a9a9-31310f305859",
   "metadata": {},
   "source": [
    "## 6. Saving the Model"
   ]
  },
  {
   "cell_type": "code",
   "execution_count": 27,
   "id": "4f6d1a3a-240c-4816-b63c-1928b733a61c",
   "metadata": {},
   "outputs": [
    {
     "data": {
      "text/plain": [
       "['phishing_detector_model.joblib']"
      ]
     },
     "execution_count": 27,
     "metadata": {},
     "output_type": "execute_result"
    }
   ],
   "source": [
    "import joblib\n",
    "joblib.dump(xgb_model, 'phishing_detector_model.joblib')"
   ]
  }
 ],
 "metadata": {
  "kernelspec": {
   "display_name": "email-sentinel",
   "language": "python",
   "name": "email-sentinel"
  },
  "language_info": {
   "codemirror_mode": {
    "name": "ipython",
    "version": 3
   },
   "file_extension": ".py",
   "mimetype": "text/x-python",
   "name": "python",
   "nbconvert_exporter": "python",
   "pygments_lexer": "ipython3",
   "version": "3.12.7"
  }
 },
 "nbformat": 4,
 "nbformat_minor": 5
}
